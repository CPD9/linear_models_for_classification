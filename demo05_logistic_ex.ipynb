{
  "cells": [
    {
      "cell_type": "markdown",
      "metadata": {
        "pycharm": {
          "name": "#%% md\n"
        },
        "id": "sI7HJBZ6RDRx"
      },
      "source": [
        "# Introduction to Artificial Intelligence: HS 2023\n",
        "\n",
        "\n",
        "---\n",
        "\n",
        "## Lecture 5: Linear Models for Classification"
      ]
    },
    {
      "cell_type": "markdown",
      "metadata": {
        "pycharm": {
          "name": "#%% md\n"
        },
        "id": "F4MLw4YURDR1"
      },
      "source": [
        "##  Breast Cancer Diagnosis via Logistic Regression\n",
        "\n",
        "In this demo, we will be focusing on breast cancer classification using logistic regression using the following dataset:\n",
        "\n",
        "*   https://archive.ics.uci.edu/dataset/17/breast+cancer+wisconsin+diagnostic\n",
        "*   https://archive.ics.uci.edu/ml/machine-learning-databases/breast-cancer-wisconsin/breast-cancer-wisconsin.data"
      ]
    },
    {
      "cell_type": "markdown",
      "metadata": {
        "pycharm": {
          "name": "#%% md\n"
        },
        "id": "tDEDpqwwRDR2"
      },
      "source": [
        "## Importing Libraries\n"
      ]
    },
    {
      "cell_type": "code",
      "execution_count": null,
      "metadata": {
        "pycharm": {
          "name": "#%%\n"
        },
        "id": "9pqAbqi2RDR3"
      },
      "outputs": [],
      "source": [
        "import numpy as np\n",
        "import matplotlib\n",
        "import matplotlib.pyplot as plt\n",
        "import pandas as pd\n",
        "import seaborn as sns\n",
        "from sklearn.metrics import confusion_matrix\n",
        "from sklearn import datasets, linear_model, preprocessing"
      ]
    },
    {
      "cell_type": "markdown",
      "metadata": {
        "pycharm": {
          "name": "#%% md\n"
        },
        "id": "7sxWpiJ6RDR4"
      },
      "source": [
        "## Loading  Dataset\n",
        "Next, we load the dataset directly from the UCI website."
      ]
    },
    {
      "cell_type": "code",
      "execution_count": null,
      "metadata": {
        "pycharm": {
          "name": "#%%\n"
        },
        "colab": {
          "base_uri": "https://localhost:8080/",
          "height": 520
        },
        "id": "lifoQEwGRDR4",
        "outputId": "89421952-ef19-43ea-9f7e-41ed307c0387"
      },
      "outputs": [
        {
          "output_type": "execute_result",
          "data": {
            "text/plain": [
              "         id  thick  size_unif  shape_unif  marg  cell_size  bare  chrom  \\\n",
              "0   1000025      5          1           1     1          2   1.0      3   \n",
              "1   1002945      5          4           4     5          7  10.0      3   \n",
              "2   1015425      3          1           1     1          2   2.0      3   \n",
              "3   1016277      6          8           8     1          3   4.0      3   \n",
              "4   1017023      4          1           1     3          2   1.0      3   \n",
              "5   1017122      8         10          10     8          7  10.0      9   \n",
              "6   1018099      1          1           1     1          2  10.0      3   \n",
              "7   1018561      2          1           2     1          2   1.0      3   \n",
              "8   1033078      2          1           1     1          2   1.0      1   \n",
              "9   1033078      4          2           1     1          2   1.0      2   \n",
              "10  1035283      1          1           1     1          1   1.0      3   \n",
              "11  1036172      2          1           1     1          2   1.0      2   \n",
              "12  1041801      5          3           3     3          2   3.0      4   \n",
              "13  1043999      1          1           1     1          2   3.0      3   \n",
              "14  1044572      8          7           5    10          7   9.0      5   \n",
              "\n",
              "    normal  mit  class  \n",
              "0        1    1      2  \n",
              "1        2    1      2  \n",
              "2        1    1      2  \n",
              "3        7    1      2  \n",
              "4        1    1      2  \n",
              "5        7    1      4  \n",
              "6        1    1      2  \n",
              "7        1    1      2  \n",
              "8        1    5      2  \n",
              "9        1    1      2  \n",
              "10       1    1      2  \n",
              "11       1    1      2  \n",
              "12       4    1      4  \n",
              "13       1    1      2  \n",
              "14       5    4      4  "
            ],
            "text/html": [
              "\n",
              "  <div id=\"df-0faf5bdc-2e1d-4fa0-8708-376a2005308a\" class=\"colab-df-container\">\n",
              "    <div>\n",
              "<style scoped>\n",
              "    .dataframe tbody tr th:only-of-type {\n",
              "        vertical-align: middle;\n",
              "    }\n",
              "\n",
              "    .dataframe tbody tr th {\n",
              "        vertical-align: top;\n",
              "    }\n",
              "\n",
              "    .dataframe thead th {\n",
              "        text-align: right;\n",
              "    }\n",
              "</style>\n",
              "<table border=\"1\" class=\"dataframe\">\n",
              "  <thead>\n",
              "    <tr style=\"text-align: right;\">\n",
              "      <th></th>\n",
              "      <th>id</th>\n",
              "      <th>thick</th>\n",
              "      <th>size_unif</th>\n",
              "      <th>shape_unif</th>\n",
              "      <th>marg</th>\n",
              "      <th>cell_size</th>\n",
              "      <th>bare</th>\n",
              "      <th>chrom</th>\n",
              "      <th>normal</th>\n",
              "      <th>mit</th>\n",
              "      <th>class</th>\n",
              "    </tr>\n",
              "  </thead>\n",
              "  <tbody>\n",
              "    <tr>\n",
              "      <th>0</th>\n",
              "      <td>1000025</td>\n",
              "      <td>5</td>\n",
              "      <td>1</td>\n",
              "      <td>1</td>\n",
              "      <td>1</td>\n",
              "      <td>2</td>\n",
              "      <td>1.0</td>\n",
              "      <td>3</td>\n",
              "      <td>1</td>\n",
              "      <td>1</td>\n",
              "      <td>2</td>\n",
              "    </tr>\n",
              "    <tr>\n",
              "      <th>1</th>\n",
              "      <td>1002945</td>\n",
              "      <td>5</td>\n",
              "      <td>4</td>\n",
              "      <td>4</td>\n",
              "      <td>5</td>\n",
              "      <td>7</td>\n",
              "      <td>10.0</td>\n",
              "      <td>3</td>\n",
              "      <td>2</td>\n",
              "      <td>1</td>\n",
              "      <td>2</td>\n",
              "    </tr>\n",
              "    <tr>\n",
              "      <th>2</th>\n",
              "      <td>1015425</td>\n",
              "      <td>3</td>\n",
              "      <td>1</td>\n",
              "      <td>1</td>\n",
              "      <td>1</td>\n",
              "      <td>2</td>\n",
              "      <td>2.0</td>\n",
              "      <td>3</td>\n",
              "      <td>1</td>\n",
              "      <td>1</td>\n",
              "      <td>2</td>\n",
              "    </tr>\n",
              "    <tr>\n",
              "      <th>3</th>\n",
              "      <td>1016277</td>\n",
              "      <td>6</td>\n",
              "      <td>8</td>\n",
              "      <td>8</td>\n",
              "      <td>1</td>\n",
              "      <td>3</td>\n",
              "      <td>4.0</td>\n",
              "      <td>3</td>\n",
              "      <td>7</td>\n",
              "      <td>1</td>\n",
              "      <td>2</td>\n",
              "    </tr>\n",
              "    <tr>\n",
              "      <th>4</th>\n",
              "      <td>1017023</td>\n",
              "      <td>4</td>\n",
              "      <td>1</td>\n",
              "      <td>1</td>\n",
              "      <td>3</td>\n",
              "      <td>2</td>\n",
              "      <td>1.0</td>\n",
              "      <td>3</td>\n",
              "      <td>1</td>\n",
              "      <td>1</td>\n",
              "      <td>2</td>\n",
              "    </tr>\n",
              "    <tr>\n",
              "      <th>5</th>\n",
              "      <td>1017122</td>\n",
              "      <td>8</td>\n",
              "      <td>10</td>\n",
              "      <td>10</td>\n",
              "      <td>8</td>\n",
              "      <td>7</td>\n",
              "      <td>10.0</td>\n",
              "      <td>9</td>\n",
              "      <td>7</td>\n",
              "      <td>1</td>\n",
              "      <td>4</td>\n",
              "    </tr>\n",
              "    <tr>\n",
              "      <th>6</th>\n",
              "      <td>1018099</td>\n",
              "      <td>1</td>\n",
              "      <td>1</td>\n",
              "      <td>1</td>\n",
              "      <td>1</td>\n",
              "      <td>2</td>\n",
              "      <td>10.0</td>\n",
              "      <td>3</td>\n",
              "      <td>1</td>\n",
              "      <td>1</td>\n",
              "      <td>2</td>\n",
              "    </tr>\n",
              "    <tr>\n",
              "      <th>7</th>\n",
              "      <td>1018561</td>\n",
              "      <td>2</td>\n",
              "      <td>1</td>\n",
              "      <td>2</td>\n",
              "      <td>1</td>\n",
              "      <td>2</td>\n",
              "      <td>1.0</td>\n",
              "      <td>3</td>\n",
              "      <td>1</td>\n",
              "      <td>1</td>\n",
              "      <td>2</td>\n",
              "    </tr>\n",
              "    <tr>\n",
              "      <th>8</th>\n",
              "      <td>1033078</td>\n",
              "      <td>2</td>\n",
              "      <td>1</td>\n",
              "      <td>1</td>\n",
              "      <td>1</td>\n",
              "      <td>2</td>\n",
              "      <td>1.0</td>\n",
              "      <td>1</td>\n",
              "      <td>1</td>\n",
              "      <td>5</td>\n",
              "      <td>2</td>\n",
              "    </tr>\n",
              "    <tr>\n",
              "      <th>9</th>\n",
              "      <td>1033078</td>\n",
              "      <td>4</td>\n",
              "      <td>2</td>\n",
              "      <td>1</td>\n",
              "      <td>1</td>\n",
              "      <td>2</td>\n",
              "      <td>1.0</td>\n",
              "      <td>2</td>\n",
              "      <td>1</td>\n",
              "      <td>1</td>\n",
              "      <td>2</td>\n",
              "    </tr>\n",
              "    <tr>\n",
              "      <th>10</th>\n",
              "      <td>1035283</td>\n",
              "      <td>1</td>\n",
              "      <td>1</td>\n",
              "      <td>1</td>\n",
              "      <td>1</td>\n",
              "      <td>1</td>\n",
              "      <td>1.0</td>\n",
              "      <td>3</td>\n",
              "      <td>1</td>\n",
              "      <td>1</td>\n",
              "      <td>2</td>\n",
              "    </tr>\n",
              "    <tr>\n",
              "      <th>11</th>\n",
              "      <td>1036172</td>\n",
              "      <td>2</td>\n",
              "      <td>1</td>\n",
              "      <td>1</td>\n",
              "      <td>1</td>\n",
              "      <td>2</td>\n",
              "      <td>1.0</td>\n",
              "      <td>2</td>\n",
              "      <td>1</td>\n",
              "      <td>1</td>\n",
              "      <td>2</td>\n",
              "    </tr>\n",
              "    <tr>\n",
              "      <th>12</th>\n",
              "      <td>1041801</td>\n",
              "      <td>5</td>\n",
              "      <td>3</td>\n",
              "      <td>3</td>\n",
              "      <td>3</td>\n",
              "      <td>2</td>\n",
              "      <td>3.0</td>\n",
              "      <td>4</td>\n",
              "      <td>4</td>\n",
              "      <td>1</td>\n",
              "      <td>4</td>\n",
              "    </tr>\n",
              "    <tr>\n",
              "      <th>13</th>\n",
              "      <td>1043999</td>\n",
              "      <td>1</td>\n",
              "      <td>1</td>\n",
              "      <td>1</td>\n",
              "      <td>1</td>\n",
              "      <td>2</td>\n",
              "      <td>3.0</td>\n",
              "      <td>3</td>\n",
              "      <td>1</td>\n",
              "      <td>1</td>\n",
              "      <td>2</td>\n",
              "    </tr>\n",
              "    <tr>\n",
              "      <th>14</th>\n",
              "      <td>1044572</td>\n",
              "      <td>8</td>\n",
              "      <td>7</td>\n",
              "      <td>5</td>\n",
              "      <td>10</td>\n",
              "      <td>7</td>\n",
              "      <td>9.0</td>\n",
              "      <td>5</td>\n",
              "      <td>5</td>\n",
              "      <td>4</td>\n",
              "      <td>4</td>\n",
              "    </tr>\n",
              "  </tbody>\n",
              "</table>\n",
              "</div>\n",
              "    <div class=\"colab-df-buttons\">\n",
              "\n",
              "  <div class=\"colab-df-container\">\n",
              "    <button class=\"colab-df-convert\" onclick=\"convertToInteractive('df-0faf5bdc-2e1d-4fa0-8708-376a2005308a')\"\n",
              "            title=\"Convert this dataframe to an interactive table.\"\n",
              "            style=\"display:none;\">\n",
              "\n",
              "  <svg xmlns=\"http://www.w3.org/2000/svg\" height=\"24px\" viewBox=\"0 -960 960 960\">\n",
              "    <path d=\"M120-120v-720h720v720H120Zm60-500h600v-160H180v160Zm220 220h160v-160H400v160Zm0 220h160v-160H400v160ZM180-400h160v-160H180v160Zm440 0h160v-160H620v160ZM180-180h160v-160H180v160Zm440 0h160v-160H620v160Z\"/>\n",
              "  </svg>\n",
              "    </button>\n",
              "\n",
              "  <style>\n",
              "    .colab-df-container {\n",
              "      display:flex;\n",
              "      gap: 12px;\n",
              "    }\n",
              "\n",
              "    .colab-df-convert {\n",
              "      background-color: #E8F0FE;\n",
              "      border: none;\n",
              "      border-radius: 50%;\n",
              "      cursor: pointer;\n",
              "      display: none;\n",
              "      fill: #1967D2;\n",
              "      height: 32px;\n",
              "      padding: 0 0 0 0;\n",
              "      width: 32px;\n",
              "    }\n",
              "\n",
              "    .colab-df-convert:hover {\n",
              "      background-color: #E2EBFA;\n",
              "      box-shadow: 0px 1px 2px rgba(60, 64, 67, 0.3), 0px 1px 3px 1px rgba(60, 64, 67, 0.15);\n",
              "      fill: #174EA6;\n",
              "    }\n",
              "\n",
              "    .colab-df-buttons div {\n",
              "      margin-bottom: 4px;\n",
              "    }\n",
              "\n",
              "    [theme=dark] .colab-df-convert {\n",
              "      background-color: #3B4455;\n",
              "      fill: #D2E3FC;\n",
              "    }\n",
              "\n",
              "    [theme=dark] .colab-df-convert:hover {\n",
              "      background-color: #434B5C;\n",
              "      box-shadow: 0px 1px 3px 1px rgba(0, 0, 0, 0.15);\n",
              "      filter: drop-shadow(0px 1px 2px rgba(0, 0, 0, 0.3));\n",
              "      fill: #FFFFFF;\n",
              "    }\n",
              "  </style>\n",
              "\n",
              "    <script>\n",
              "      const buttonEl =\n",
              "        document.querySelector('#df-0faf5bdc-2e1d-4fa0-8708-376a2005308a button.colab-df-convert');\n",
              "      buttonEl.style.display =\n",
              "        google.colab.kernel.accessAllowed ? 'block' : 'none';\n",
              "\n",
              "      async function convertToInteractive(key) {\n",
              "        const element = document.querySelector('#df-0faf5bdc-2e1d-4fa0-8708-376a2005308a');\n",
              "        const dataTable =\n",
              "          await google.colab.kernel.invokeFunction('convertToInteractive',\n",
              "                                                    [key], {});\n",
              "        if (!dataTable) return;\n",
              "\n",
              "        const docLinkHtml = 'Like what you see? Visit the ' +\n",
              "          '<a target=\"_blank\" href=https://colab.research.google.com/notebooks/data_table.ipynb>data table notebook</a>'\n",
              "          + ' to learn more about interactive tables.';\n",
              "        element.innerHTML = '';\n",
              "        dataTable['output_type'] = 'display_data';\n",
              "        await google.colab.output.renderOutput(dataTable, element);\n",
              "        const docLink = document.createElement('div');\n",
              "        docLink.innerHTML = docLinkHtml;\n",
              "        element.appendChild(docLink);\n",
              "      }\n",
              "    </script>\n",
              "  </div>\n",
              "\n",
              "\n",
              "<div id=\"df-356ba27c-368a-4f29-9c86-d5f34aa05779\">\n",
              "  <button class=\"colab-df-quickchart\" onclick=\"quickchart('df-356ba27c-368a-4f29-9c86-d5f34aa05779')\"\n",
              "            title=\"Suggest charts.\"\n",
              "            style=\"display:none;\">\n",
              "\n",
              "<svg xmlns=\"http://www.w3.org/2000/svg\" height=\"24px\"viewBox=\"0 0 24 24\"\n",
              "     width=\"24px\">\n",
              "    <g>\n",
              "        <path d=\"M19 3H5c-1.1 0-2 .9-2 2v14c0 1.1.9 2 2 2h14c1.1 0 2-.9 2-2V5c0-1.1-.9-2-2-2zM9 17H7v-7h2v7zm4 0h-2V7h2v10zm4 0h-2v-4h2v4z\"/>\n",
              "    </g>\n",
              "</svg>\n",
              "  </button>\n",
              "\n",
              "<style>\n",
              "  .colab-df-quickchart {\n",
              "      --bg-color: #E8F0FE;\n",
              "      --fill-color: #1967D2;\n",
              "      --hover-bg-color: #E2EBFA;\n",
              "      --hover-fill-color: #174EA6;\n",
              "      --disabled-fill-color: #AAA;\n",
              "      --disabled-bg-color: #DDD;\n",
              "  }\n",
              "\n",
              "  [theme=dark] .colab-df-quickchart {\n",
              "      --bg-color: #3B4455;\n",
              "      --fill-color: #D2E3FC;\n",
              "      --hover-bg-color: #434B5C;\n",
              "      --hover-fill-color: #FFFFFF;\n",
              "      --disabled-bg-color: #3B4455;\n",
              "      --disabled-fill-color: #666;\n",
              "  }\n",
              "\n",
              "  .colab-df-quickchart {\n",
              "    background-color: var(--bg-color);\n",
              "    border: none;\n",
              "    border-radius: 50%;\n",
              "    cursor: pointer;\n",
              "    display: none;\n",
              "    fill: var(--fill-color);\n",
              "    height: 32px;\n",
              "    padding: 0;\n",
              "    width: 32px;\n",
              "  }\n",
              "\n",
              "  .colab-df-quickchart:hover {\n",
              "    background-color: var(--hover-bg-color);\n",
              "    box-shadow: 0 1px 2px rgba(60, 64, 67, 0.3), 0 1px 3px 1px rgba(60, 64, 67, 0.15);\n",
              "    fill: var(--button-hover-fill-color);\n",
              "  }\n",
              "\n",
              "  .colab-df-quickchart-complete:disabled,\n",
              "  .colab-df-quickchart-complete:disabled:hover {\n",
              "    background-color: var(--disabled-bg-color);\n",
              "    fill: var(--disabled-fill-color);\n",
              "    box-shadow: none;\n",
              "  }\n",
              "\n",
              "  .colab-df-spinner {\n",
              "    border: 2px solid var(--fill-color);\n",
              "    border-color: transparent;\n",
              "    border-bottom-color: var(--fill-color);\n",
              "    animation:\n",
              "      spin 1s steps(1) infinite;\n",
              "  }\n",
              "\n",
              "  @keyframes spin {\n",
              "    0% {\n",
              "      border-color: transparent;\n",
              "      border-bottom-color: var(--fill-color);\n",
              "      border-left-color: var(--fill-color);\n",
              "    }\n",
              "    20% {\n",
              "      border-color: transparent;\n",
              "      border-left-color: var(--fill-color);\n",
              "      border-top-color: var(--fill-color);\n",
              "    }\n",
              "    30% {\n",
              "      border-color: transparent;\n",
              "      border-left-color: var(--fill-color);\n",
              "      border-top-color: var(--fill-color);\n",
              "      border-right-color: var(--fill-color);\n",
              "    }\n",
              "    40% {\n",
              "      border-color: transparent;\n",
              "      border-right-color: var(--fill-color);\n",
              "      border-top-color: var(--fill-color);\n",
              "    }\n",
              "    60% {\n",
              "      border-color: transparent;\n",
              "      border-right-color: var(--fill-color);\n",
              "    }\n",
              "    80% {\n",
              "      border-color: transparent;\n",
              "      border-right-color: var(--fill-color);\n",
              "      border-bottom-color: var(--fill-color);\n",
              "    }\n",
              "    90% {\n",
              "      border-color: transparent;\n",
              "      border-bottom-color: var(--fill-color);\n",
              "    }\n",
              "  }\n",
              "</style>\n",
              "\n",
              "  <script>\n",
              "    async function quickchart(key) {\n",
              "      const quickchartButtonEl =\n",
              "        document.querySelector('#' + key + ' button');\n",
              "      quickchartButtonEl.disabled = true;  // To prevent multiple clicks.\n",
              "      quickchartButtonEl.classList.add('colab-df-spinner');\n",
              "      try {\n",
              "        const charts = await google.colab.kernel.invokeFunction(\n",
              "            'suggestCharts', [key], {});\n",
              "      } catch (error) {\n",
              "        console.error('Error during call to suggestCharts:', error);\n",
              "      }\n",
              "      quickchartButtonEl.classList.remove('colab-df-spinner');\n",
              "      quickchartButtonEl.classList.add('colab-df-quickchart-complete');\n",
              "    }\n",
              "    (() => {\n",
              "      let quickchartButtonEl =\n",
              "        document.querySelector('#df-356ba27c-368a-4f29-9c86-d5f34aa05779 button');\n",
              "      quickchartButtonEl.style.display =\n",
              "        google.colab.kernel.accessAllowed ? 'block' : 'none';\n",
              "    })();\n",
              "  </script>\n",
              "</div>\n",
              "    </div>\n",
              "  </div>\n"
            ]
          },
          "metadata": {},
          "execution_count": 3
        }
      ],
      "source": [
        "names = ['id','thick','size_unif','shape_unif','marg','cell_size','bare',\n",
        "         'chrom','normal','mit','class']\n",
        "df = pd.read_csv('https://archive.ics.uci.edu/ml/machine-learning-databases/breast-cancer-wisconsin/breast-cancer-wisconsin.data',\n",
        "                 na_values='?', header=None, names=names)\n",
        "df.head(15)"
      ]
    },
    {
      "cell_type": "markdown",
      "source": [
        "**Dataframes:**\n",
        "\n",
        "To better understand the data/dataframe, we use a set of functions available from pandas, which are summarised as follows:\n",
        "\n",
        "- `.head()` prints the header of a given dataframe.\n",
        "- `.dtypes` describes the datatypes of all columns in the dataframe.\n",
        "- `.info()` provides an overview of the different column data types and missing values in the given dataframe\n",
        "- `.describe()` returns a distribution of numeric columns in the dataframe\n",
        "- `.isna().sum()` provides the number of missing values per column in our DataFrame\n",
        "- `.unique()` retrieves the unique values in a given dataframe column\n",
        "\n",
        "<br>\n",
        "\n",
        "**Visualisation:**\n",
        "\n",
        "- `sns.displot()` plots the distribution of one column in your dataframe."
      ],
      "metadata": {
        "id": "-rNpHKi210TS",
        "pycharm": {
          "name": "#%% md\n"
        }
      }
    },
    {
      "cell_type": "code",
      "source": [
        "# describes the datatype of all columns:\n",
        "df.dtypes"
      ],
      "metadata": {
        "colab": {
          "base_uri": "https://localhost:8080/"
        },
        "id": "C_8LODPg13tr",
        "outputId": "cde20fd4-b115-4a5c-f3af-877b43792d5a",
        "pycharm": {
          "name": "#%%\n"
        }
      },
      "execution_count": null,
      "outputs": [
        {
          "output_type": "execute_result",
          "data": {
            "text/plain": [
              "id              int64\n",
              "thick           int64\n",
              "size_unif       int64\n",
              "shape_unif      int64\n",
              "marg            int64\n",
              "cell_size       int64\n",
              "bare          float64\n",
              "chrom           int64\n",
              "normal          int64\n",
              "mit             int64\n",
              "class           int64\n",
              "dtype: object"
            ]
          },
          "metadata": {},
          "execution_count": 5
        }
      ]
    },
    {
      "cell_type": "code",
      "source": [
        "# provide an overview of the different column data types and missing values:\n",
        "df.info()"
      ],
      "metadata": {
        "colab": {
          "base_uri": "https://localhost:8080/"
        },
        "id": "b6CgIYZB17pQ",
        "outputId": "226c4c1d-a10b-4d80-aad0-e2f49e72a781",
        "pycharm": {
          "name": "#%%\n"
        }
      },
      "execution_count": null,
      "outputs": [
        {
          "output_type": "stream",
          "name": "stdout",
          "text": [
            "<class 'pandas.core.frame.DataFrame'>\n",
            "RangeIndex: 699 entries, 0 to 698\n",
            "Data columns (total 11 columns):\n",
            " #   Column      Non-Null Count  Dtype  \n",
            "---  ------      --------------  -----  \n",
            " 0   id          699 non-null    int64  \n",
            " 1   thick       699 non-null    int64  \n",
            " 2   size_unif   699 non-null    int64  \n",
            " 3   shape_unif  699 non-null    int64  \n",
            " 4   marg        699 non-null    int64  \n",
            " 5   cell_size   699 non-null    int64  \n",
            " 6   bare        683 non-null    float64\n",
            " 7   chrom       699 non-null    int64  \n",
            " 8   normal      699 non-null    int64  \n",
            " 9   mit         699 non-null    int64  \n",
            " 10  class       699 non-null    int64  \n",
            "dtypes: float64(1), int64(10)\n",
            "memory usage: 60.2 KB\n"
          ]
        }
      ]
    },
    {
      "cell_type": "code",
      "source": [
        "# display number of missing values per column:\n",
        "df.isna().sum()"
      ],
      "metadata": {
        "colab": {
          "base_uri": "https://localhost:8080/"
        },
        "id": "OgByAGSc1-8-",
        "outputId": "72f7d7e8-5ec7-4445-fab3-2a70580153dd",
        "pycharm": {
          "name": "#%%\n"
        }
      },
      "execution_count": null,
      "outputs": [
        {
          "output_type": "execute_result",
          "data": {
            "text/plain": [
              "id             0\n",
              "thick          0\n",
              "size_unif      0\n",
              "shape_unif     0\n",
              "marg           0\n",
              "cell_size      0\n",
              "bare          16\n",
              "chrom          0\n",
              "normal         0\n",
              "mit            0\n",
              "class          0\n",
              "dtype: int64"
            ]
          },
          "metadata": {},
          "execution_count": 9
        }
      ]
    },
    {
      "cell_type": "code",
      "execution_count": null,
      "outputs": [
        {
          "output_type": "execute_result",
          "data": {
            "text/plain": [
              "id            0\n",
              "thick         0\n",
              "size_unif     0\n",
              "shape_unif    0\n",
              "marg          0\n",
              "cell_size     0\n",
              "bare          0\n",
              "chrom         0\n",
              "normal        0\n",
              "mit           0\n",
              "class         0\n",
              "dtype: int64"
            ]
          },
          "metadata": {},
          "execution_count": 11
        }
      ],
      "source": [
        "# In this dataset, there are missing values, therefore we remove empty cells.\n",
        "df.dropna(inplace=True)\n",
        "df.isna().sum()"
      ],
      "metadata": {
        "pycharm": {
          "name": "#%%\n"
        },
        "colab": {
          "base_uri": "https://localhost:8080/"
        },
        "id": "7__A3qfrRDR5",
        "outputId": "a09618ac-2e38-405a-e93d-898ea9d15dbd"
      }
    },
    {
      "cell_type": "code",
      "source": [
        "# Plot the unique class labels\n",
        "df['class'].unique()"
      ],
      "metadata": {
        "colab": {
          "base_uri": "https://localhost:8080/"
        },
        "id": "gk2TwhbIqRfI",
        "outputId": "73400a64-4aba-4394-b6d3-dc2e20ea9c03"
      },
      "execution_count": null,
      "outputs": [
        {
          "output_type": "execute_result",
          "data": {
            "text/plain": [
              "array([2, 4])"
            ]
          },
          "metadata": {},
          "execution_count": 12
        }
      ]
    },
    {
      "cell_type": "code",
      "source": [
        "# As we have seen before, the values of our targets are either 2's or 4's. We have to map them as 0's and 1's, correspondingly.\n",
        "# Hint: use the .map() method\n",
        "class_dict = {2:0, 4:1} # dict: {key1:value1, key2:value2}\n",
        "df['class'] = df['class'].map(class_dict)\n"
      ],
      "metadata": {
        "id": "Y2YYSwEYqUf3",
        "colab": {
          "base_uri": "https://localhost:8080/"
        },
        "outputId": "eac1807e-cec2-4db6-9544-89779cfa8a0b"
      },
      "execution_count": null,
      "outputs": [
        {
          "output_type": "execute_result",
          "data": {
            "text/plain": [
              "array([0, 1])"
            ]
          },
          "metadata": {},
          "execution_count": 13
        }
      ]
    },
    {
      "cell_type": "code",
      "source": [
        "print(df['class'].unique())"
      ],
      "metadata": {
        "colab": {
          "base_uri": "https://localhost:8080/"
        },
        "id": "pLaLOsS0S7rt",
        "outputId": "55c84984-8b16-464e-8662-bfc1bd424e48"
      },
      "execution_count": null,
      "outputs": [
        {
          "output_type": "stream",
          "name": "stdout",
          "text": [
            "[0 1]\n"
          ]
        }
      ]
    },
    {
      "cell_type": "code",
      "source": [
        "plt.grid()\n",
        "sns.countplot(data=df, x='class')\n",
        "plt.xlabel('Class values')\n",
        "plt.ylabel('Counts')\n",
        "plt.title('Class distributions')"
      ],
      "metadata": {
        "colab": {
          "base_uri": "https://localhost:8080/",
          "height": 489
        },
        "id": "SoyoxuXauyF8",
        "outputId": "1a6fc72e-50a2-4297-de3d-74624ee8342d"
      },
      "execution_count": null,
      "outputs": [
        {
          "output_type": "execute_result",
          "data": {
            "text/plain": [
              "Text(0.5, 1.0, 'Class distributions')"
            ]
          },
          "metadata": {},
          "execution_count": 18
        },
        {
          "output_type": "display_data",
          "data": {
            "text/plain": [
              "<Figure size 640x480 with 1 Axes>"
            ],
            "image/png": "[encoded data removed]"
          },
          "metadata": {}
        }
      ]
    },
    {
      "cell_type": "code",
      "source": [
        "# Getting class predictions and colour code samples\n",
        "y = df['class'] # vector with 'n' samples\n",
        "yBenign = (y==0) # getting the labels for the benign samples, through a boolean vector, True at the corresponding to benign positions\n",
        "yMalign = (y==1) # getting the labels for the malign samples, through a boolean vector, True at the corresponding to malign positions"
      ],
      "metadata": {
        "id": "cQiEj5ChPSld",
        "pycharm": {
          "name": "#%%\n"
        }
      },
      "execution_count": null,
      "outputs": []
    },
    {
      "cell_type": "code",
      "source": [
        "print(yBenign)"
      ],
      "metadata": {
        "colab": {
          "base_uri": "https://localhost:8080/"
        },
        "id": "5fgmG7fsUrQb",
        "outputId": "6bfd0cea-5508-49c7-adf7-b6309d134a67"
      },
      "execution_count": null,
      "outputs": [
        {
          "output_type": "stream",
          "name": "stdout",
          "text": [
            "0       True\n",
            "1       True\n",
            "2       True\n",
            "3       True\n",
            "4       True\n",
            "       ...  \n",
            "694     True\n",
            "695     True\n",
            "696    False\n",
            "697    False\n",
            "698    False\n",
            "Name: class, Length: 683, dtype: bool\n"
          ]
        }
      ]
    },
    {
      "cell_type": "markdown",
      "metadata": {
        "pycharm": {
          "name": "#%% md\n"
        },
        "id": "dtUCcIU4RDR6"
      },
      "source": [
        "After loading the data, we can create a scatter plot of the data labeling the class values with different colors.  We will pick two of the features.  "
      ]
    },
    {
      "cell_type": "code",
      "execution_count": null,
      "metadata": {
        "scrolled": true,
        "pycharm": {
          "name": "#%%\n"
        },
        "colab": {
          "base_uri": "https://localhost:8080/",
          "height": 479
        },
        "id": "PHBmQuutRDR7",
        "outputId": "e00ed770-1b3a-45e8-a52c-1f762d04c1b7"
      },
      "outputs": [
        {
          "output_type": "execute_result",
          "data": {
            "text/plain": [
              "<matplotlib.legend.Legend at 0x7fb00d17c6d0>"
            ]
          },
          "metadata": {},
          "execution_count": 21
        },
        {
          "output_type": "display_data",
          "data": {
            "text/plain": [
              "<Figure size 640x480 with 1 Axes>"
            ],
            "image/png": "[encoded data removed]"
          },
          "metadata": {}
        }
      ],
      "source": [
        "# Get two predictors\n",
        "xnames =['size_unif','marg']\n",
        "X = np.array(df[xnames])\n",
        "\n",
        "# Create the scatter plot\n",
        "plt.plot(X[yMalign,0],X[yMalign,1],'r.')\n",
        "plt.plot(X[yBenign,0],X[yBenign,1],'g.')\n",
        "plt.xlabel(xnames[0], fontsize=16)\n",
        "plt.ylabel(xnames[1], fontsize=16)\n",
        "plt.ylim(0,14)\n",
        "plt.grid()\n",
        "plt.legend(['Malign','Benign'],loc='upper right')"
      ]
    },
    {
      "cell_type": "markdown",
      "metadata": {
        "pycharm": {
          "name": "#%% md\n"
        },
        "id": "8GnSUchtRDR7"
      },
      "source": [
        "We can improve the previous visualisation by plotting the frequencies of the data samples values according to their class labels and display them with different sizes."
      ]
    },
    {
      "cell_type": "code",
      "execution_count": null,
      "metadata": {
        "scrolled": true,
        "pycharm": {
          "name": "#%%\n"
        },
        "colab": {
          "base_uri": "https://localhost:8080/",
          "height": 462
        },
        "id": "lO0TMsDqRDR8",
        "outputId": "0e1e1fea-8cde-47c0-da78-ac6a370543f9"
      },
      "outputs": [
        {
          "output_type": "display_data",
          "data": {
            "text/plain": [
              "<Figure size 640x480 with 1 Axes>"
            ],
            "image/png": "[encoded data removed]"
          },
          "metadata": {}
        }
      ],
      "source": [
        "def plot_cnt(X, y, legend=True):\n",
        "\n",
        "    # Compute the bin edges for the 2d histogram\n",
        "    x0val = np.array(list(set(X[:,0]))).astype(float)\n",
        "    x1val = np.array(list(set(X[:,1]))).astype(float)\n",
        "    x0, x1 = np.meshgrid(x0val,x1val)\n",
        "    x0e = np.hstack((x0val, np.max(x0val)+1))\n",
        "    x1e = np.hstack((x1val, np.max(x1val)+1))\n",
        "\n",
        "    # Make a plot for each class\n",
        "    yval = list(set(y))\n",
        "    color = ['g','r']\n",
        "    for i in range(len(yval)):\n",
        "        classIdx = np.where(y==yval[i])[0]\n",
        "        cnt, x0e, x1e = np.histogram2d(X[classIdx,0], X[classIdx,1],[x0e,x1e])\n",
        "        x0, x1 = np.meshgrid(x0val,x1val)\n",
        "        plt.scatter(x0.ravel(), x1.ravel(), s=2*cnt.ravel(),alpha=0.5, c=color[i],edgecolors='none')\n",
        "    if legend:\n",
        "        plt.ylim([0,14])\n",
        "        plt.grid()\n",
        "        plt.legend(['benign','malign'], loc='upper right')\n",
        "        plt.xlabel(xnames[0], fontsize=16)\n",
        "        plt.ylabel(xnames[1], fontsize=16)\n",
        "\n",
        "plot_cnt(X,y)"
      ]
    },
    {
      "cell_type": "markdown",
      "metadata": {
        "pycharm": {
          "name": "#%% md\n"
        },
        "id": "xc46hkOcRDR-"
      },
      "source": [
        "## Logistic Regression\n",
        "\n",
        "In logistic regression, we fit the weights $w=[w_0,w_1,...,w_k]$  to the model:\n",
        "$$\n",
        "    P(y=1|x) = \\frac{1}{1+exp(-z)};  z = w_0 + w_1x_1 + ... + w_kx_k.\n",
        "$$\n",
        "For illustration purposes, we will first fit the model on the features `size_unif` and `marg`."
      ]
    },
    {
      "cell_type": "code",
      "execution_count": null,
      "metadata": {
        "pycharm": {
          "name": "#%%\n"
        },
        "colab": {
          "base_uri": "https://localhost:8080/"
        },
        "id": "coJV5g6SRDR-",
        "outputId": "da5079dd-0e8c-4d6f-ac1e-be1cea9ee57c"
      },
      "outputs": [
        {
          "output_type": "stream",
          "name": "stdout",
          "text": [
            "(683, 2)\n"
          ]
        }
      ],
      "source": [
        "# Access the feature values of the corresponding 'size_unif' and 'marg' columns.\n",
        "xnames = ['size_unif', 'marg']\n",
        "X = np.array(df[xnames])\n",
        "print(X.shape)"
      ]
    },
    {
      "cell_type": "markdown",
      "metadata": {
        "pycharm": {
          "name": "#%% md\n"
        },
        "id": "G0y5jUp2RDR_"
      },
      "source": [
        "Next, we split the data into training and test"
      ]
    },
    {
      "cell_type": "code",
      "execution_count": null,
      "metadata": {
        "pycharm": {
          "name": "#%%\n"
        },
        "id": "Q36BjThrRDR_"
      },
      "outputs": [],
      "source": [
        "# Split the (X,y)-annotated dataset onto a training a test dataset, by using 80%\n",
        "# samples for training and 20% samples for testing. Also shuffle the samples.\n",
        "# For that purposes, we will use the 'train_test_split' function contained in sklearn.model_selection\n",
        "from sklearn.model_selection import train_test_split\n",
        "xTrain, xTest, yTrain, yTest = train_test_split(X, y, test_size=0.2, shuffle=True)"
      ]
    },
    {
      "cell_type": "code",
      "source": [
        "print(xTrain.shape)"
      ],
      "metadata": {
        "colab": {
          "base_uri": "https://localhost:8080/"
        },
        "id": "iEIFVyx8QzT0",
        "outputId": "bea12b16-148c-41ca-cd35-8295b64fc3ac",
        "pycharm": {
          "name": "#%%\n"
        }
      },
      "execution_count": null,
      "outputs": [
        {
          "output_type": "stream",
          "name": "stdout",
          "text": [
            "(546, 2)\n"
          ]
        }
      ]
    },
    {
      "cell_type": "markdown",
      "metadata": {
        "pycharm": {
          "name": "#%% md\n"
        },
        "id": "UwnPAOWIRDR_"
      },
      "source": [
        "Similar to the linear regression, we need to standardise the data before fitting the model. For that we can use the `StandardScaler` class from `sklearn.preprocessing`"
      ]
    },
    {
      "cell_type": "code",
      "execution_count": null,
      "metadata": {
        "pycharm": {
          "name": "#%%\n"
        },
        "id": "Hn0vPShtRDR_"
      },
      "outputs": [],
      "source": [
        "# We also will learn how to normalise the data using sklearn.\n",
        "# This is very important, so as to give each of the features the same relevance.\n",
        "# Thus, we use the standard scaler from sklearn preprocessing to Nnrmalise the different features using the StandardScaler\n",
        "from sklearn.preprocessing import StandardScaler # import the corresponding feature scaler from sklearn.preprocessing\n",
        "\n",
        "scaler = StandardScaler() # initialise the scaler\n",
        "xTrainStd = scaler.fit_transform(xTrain) # fit the scaler to the training dataset => mean, std\n",
        "xTestStd = scaler.transform(xTest) # apply the scaler onto the test dataset => (xtest-mean)/std"
      ]
    },
    {
      "cell_type": "code",
      "source": [
        "scaler.mean_"
      ],
      "metadata": {
        "colab": {
          "base_uri": "https://localhost:8080/"
        },
        "id": "tb6UttdbR74d",
        "outputId": "f3266349-d41b-471e-8991-e6670cc107ce",
        "pycharm": {
          "name": "#%%\n"
        }
      },
      "execution_count": null,
      "outputs": [
        {
          "output_type": "execute_result",
          "data": {
            "text/plain": [
              "array([3.12454212, 2.83333333])"
            ]
          },
          "metadata": {},
          "execution_count": 30
        }
      ]
    },
    {
      "cell_type": "code",
      "source": [
        "print(f'xTrainStd.shape: {xTrainStd.shape}')\n",
        "print(f'yTrain.shape: {yTrain.shape}')\n",
        "print(f'xTestStd.shape: {xTestStd.shape}')\n",
        "print(f'yTest.shape: {yTest.shape}')"
      ],
      "metadata": {
        "colab": {
          "base_uri": "https://localhost:8080/"
        },
        "id": "NrseRMJDhMON",
        "outputId": "1291aecc-42d5-4eec-9f0e-7307e8f5d594"
      },
      "execution_count": null,
      "outputs": [
        {
          "output_type": "stream",
          "name": "stdout",
          "text": [
            "xTrainStd.shape: (546, 2)\n",
            "yTrain.shape: (546,)\n",
            "xTestStd.shape: (137, 2)\n",
            "yTest.shape: (137,)\n"
          ]
        }
      ]
    },
    {
      "cell_type": "markdown",
      "metadata": {
        "pycharm": {
          "name": "#%% md\n"
        },
        "id": "JhZA2E3DRDSA"
      },
      "source": [
        "After that, we can use the `sklearn` package and use the `LogisticRegression()` classifier to fit the data. It has a parameter `C`, which controls the regularization level with higher values meaning less regularization. We will use a high value to minimally regularize the estimate."
      ]
    },
    {
      "cell_type": "code",
      "execution_count": null,
      "metadata": {
        "pycharm": {
          "name": "#%%\n"
        },
        "colab": {
          "base_uri": "https://localhost:8080/",
          "height": 75
        },
        "id": "DZk0hzjoRDSB",
        "outputId": "a994a2cd-8efe-417c-d92c-c862fa95abb2"
      },
      "outputs": [
        {
          "output_type": "execute_result",
          "data": {
            "text/plain": [
              "LogisticRegression()"
            ],
            "text/html": [
              "<style>#sk-container-id-1 {color: black;background-color: white;}#sk-container-id-1 pre{padding: 0;}#sk-container-id-1 div.sk-toggleable {background-color: white;}#sk-container-id-1 label.sk-toggleable__label {cursor: pointer;display: block;width: 100%;margin-bottom: 0;padding: 0.3em;box-sizing: border-box;text-align: center;}#sk-container-id-1 label.sk-toggleable__label-arrow:before {content: \"▸\";float: left;margin-right: 0.25em;color: #696969;}#sk-container-id-1 label.sk-toggleable__label-arrow:hover:before {color: black;}#sk-container-id-1 div.sk-estimator:hover label.sk-toggleable__label-arrow:before {color: black;}#sk-container-id-1 div.sk-toggleable__content {max-height: 0;max-width: 0;overflow: hidden;text-align: left;background-color: #f0f8ff;}#sk-container-id-1 div.sk-toggleable__content pre {margin: 0.2em;color: black;border-radius: 0.25em;background-color: #f0f8ff;}#sk-container-id-1 input.sk-toggleable__control:checked~div.sk-toggleable__content {max-height: 200px;max-width: 100%;overflow: auto;}#sk-container-id-1 input.sk-toggleable__control:checked~label.sk-toggleable__label-arrow:before {content: \"▾\";}#sk-container-id-1 div.sk-estimator input.sk-toggleable__control:checked~label.sk-toggleable__label {background-color: #d4ebff;}#sk-container-id-1 div.sk-label input.sk-toggleable__control:checked~label.sk-toggleable__label {background-color: #d4ebff;}#sk-container-id-1 input.sk-hidden--visually {border: 0;clip: rect(1px 1px 1px 1px);clip: rect(1px, 1px, 1px, 1px);height: 1px;margin: -1px;overflow: hidden;padding: 0;position: absolute;width: 1px;}#sk-container-id-1 div.sk-estimator {font-family: monospace;background-color: #f0f8ff;border: 1px dotted black;border-radius: 0.25em;box-sizing: border-box;margin-bottom: 0.5em;}#sk-container-id-1 div.sk-estimator:hover {background-color: #d4ebff;}#sk-container-id-1 div.sk-parallel-item::after {content: \"\";width: 100%;border-bottom: 1px solid gray;flex-grow: 1;}#sk-container-id-1 div.sk-label:hover label.sk-toggleable__label {background-color: #d4ebff;}#sk-container-id-1 div.sk-serial::before {content: \"\";position: absolute;border-left: 1px solid gray;box-sizing: border-box;top: 0;bottom: 0;left: 50%;z-index: 0;}#sk-container-id-1 div.sk-serial {display: flex;flex-direction: column;align-items: center;background-color: white;padding-right: 0.2em;padding-left: 0.2em;position: relative;}#sk-container-id-1 div.sk-item {position: relative;z-index: 1;}#sk-container-id-1 div.sk-parallel {display: flex;align-items: stretch;justify-content: center;background-color: white;position: relative;}#sk-container-id-1 div.sk-item::before, #sk-container-id-1 div.sk-parallel-item::before {content: \"\";position: absolute;border-left: 1px solid gray;box-sizing: border-box;top: 0;bottom: 0;left: 50%;z-index: -1;}#sk-container-id-1 div.sk-parallel-item {display: flex;flex-direction: column;z-index: 1;position: relative;background-color: white;}#sk-container-id-1 div.sk-parallel-item:first-child::after {align-self: flex-end;width: 50%;}#sk-container-id-1 div.sk-parallel-item:last-child::after {align-self: flex-start;width: 50%;}#sk-container-id-1 div.sk-parallel-item:only-child::after {width: 0;}#sk-container-id-1 div.sk-dashed-wrapped {border: 1px dashed gray;margin: 0 0.4em 0.5em 0.4em;box-sizing: border-box;padding-bottom: 0.4em;background-color: white;}#sk-container-id-1 div.sk-label label {font-family: monospace;font-weight: bold;display: inline-block;line-height: 1.2em;}#sk-container-id-1 div.sk-label-container {text-align: center;}#sk-container-id-1 div.sk-container {/* jupyter's `normalize.less` sets `[hidden] { display: none; }` but bootstrap.min.css set `[hidden] { display: none !important; }` so we also need the `!important` here to be able to override the default hidden behavior on the sphinx rendered scikit-learn.org. See: https://github.com/scikit-learn/scikit-learn/issues/21755 */display: inline-block !important;position: relative;}#sk-container-id-1 div.sk-text-repr-fallback {display: none;}</style><div id=\"sk-container-id-1\" class=\"sk-top-container\"><div class=\"sk-text-repr-fallback\"><pre>LogisticRegression()</pre><b>In a Jupyter environment, please rerun this cell to show the HTML representation or trust the notebook. <br />On GitHub, the HTML representation is unable to render, please try loading this page with nbviewer.org.</b></div><div class=\"sk-container\" hidden><div class=\"sk-item\"><div class=\"sk-estimator sk-toggleable\"><input class=\"sk-toggleable__control sk-hidden--visually\" id=\"sk-estimator-id-1\" type=\"checkbox\" checked><label for=\"sk-estimator-id-1\" class=\"sk-toggleable__label sk-toggleable__label-arrow\">LogisticRegression</label><div class=\"sk-toggleable__content\"><pre>LogisticRegression()</pre></div></div></div></div></div>"
            ]
          },
          "metadata": {},
          "execution_count": 33
        }
      ],
      "source": [
        "from sklearn.linear_model import LogisticRegression\n",
        "logreg = LogisticRegression() # Initialise the Logistic Regression Classifier\n",
        "logreg.fit(xTrainStd, yTrain) # Fit the Logistic Regression parameters on the training dataset."
      ]
    },
    {
      "cell_type": "code",
      "source": [
        "logreg.intercept_ # w0"
      ],
      "metadata": {
        "colab": {
          "base_uri": "https://localhost:8080/"
        },
        "id": "qkNVzWeriKFa",
        "outputId": "c5f07ead-bb4c-4cfd-9ea8-e0cccce99458"
      },
      "execution_count": null,
      "outputs": [
        {
          "output_type": "execute_result",
          "data": {
            "text/plain": [
              "array([-0.31033508])"
            ]
          },
          "metadata": {},
          "execution_count": 34
        }
      ]
    },
    {
      "cell_type": "code",
      "source": [
        "logreg.coef_ # w1, w2"
      ],
      "metadata": {
        "colab": {
          "base_uri": "https://localhost:8080/"
        },
        "id": "rbiy9_8AiFRk",
        "outputId": "7be0256b-8b77-4810-f472-afabdb08a309"
      },
      "execution_count": null,
      "outputs": [
        {
          "output_type": "execute_result",
          "data": {
            "text/plain": [
              "array([[3.43444094, 1.18987912]])"
            ]
          },
          "metadata": {},
          "execution_count": 36
        }
      ]
    },
    {
      "cell_type": "code",
      "source": [
        "# We plot the estimated model parameters:\n",
        "print('y = sigmoid(' + str('%.3f' % logreg.intercept_) + ' + ' + str('%.3f' % logreg.coef_[0][0]) + '*x1 + ' + str('%.3f' % logreg.coef_[0][1]) + '*x2) ')"
      ],
      "metadata": {
        "colab": {
          "base_uri": "https://localhost:8080/"
        },
        "id": "N2_M9xsmiEY4",
        "outputId": "c762f286-499c-4bf6-e739-7c58fc58d407"
      },
      "execution_count": null,
      "outputs": [
        {
          "output_type": "stream",
          "name": "stdout",
          "text": [
            "y = sigmoid(-0.310 + 3.434*x1 + 1.190*x2) \n"
          ]
        }
      ]
    },
    {
      "cell_type": "markdown",
      "metadata": {
        "pycharm": {
          "name": "#%% md\n"
        },
        "id": "FGARVPf1RDSB"
      },
      "source": [
        "Finally, we can measure the accuracy on the test data.  You should get an accuracy more than $94\\%$."
      ]
    },
    {
      "cell_type": "code",
      "execution_count": null,
      "metadata": {
        "pycharm": {
          "name": "#%%\n"
        },
        "colab": {
          "base_uri": "https://localhost:8080/"
        },
        "id": "jeemBgCxRDSB",
        "outputId": "0f2d23fa-a04f-42a3-bc8c-e176585e9530"
      },
      "outputs": [
        {
          "output_type": "stream",
          "name": "stdout",
          "text": [
            "Accuracy on test data = 0.941606\n"
          ]
        }
      ],
      "source": [
        "yhat = logreg.predict(xTestStd) # Get the model's predictions on the test dataset.\n",
        "accAvg = np.mean(yTest == yhat) # Compute the accuracy by averaging the number of matched predictions with the corresponding ground-truths.\n",
        "print(\"Accuracy on test data = %f\" % accAvg)"
      ]
    },
    {
      "cell_type": "code",
      "source": [
        "# To have a better idea about the predictions for each single class, we additionally plot\n",
        "# the confusion matrix.\n",
        "# Hint: Have a look at confusion_matrix() from sklearn.metrics\n",
        "# Also have a look at sns's heatmap() function.\n",
        "cm = confusion_matrix(yTest, yhat)\n",
        "print(cm)\n",
        "sns.heatmap(data=cm, annot=True)"
      ],
      "metadata": {
        "colab": {
          "base_uri": "https://localhost:8080/",
          "height": 482
        },
        "id": "lj6HNZxErFmU",
        "outputId": "6640384f-296a-40fd-d8f8-e4b0f894cf20"
      },
      "execution_count": null,
      "outputs": [
        {
          "output_type": "stream",
          "name": "stdout",
          "text": [
            "[[85  2]\n",
            " [ 6 44]]\n"
          ]
        },
        {
          "output_type": "execute_result",
          "data": {
            "text/plain": [
              "<Axes: >"
            ]
          },
          "metadata": {},
          "execution_count": 43
        },
        {
          "output_type": "display_data",
          "data": {
            "text/plain": [
              "<Figure size 640x480 with 2 Axes>"
            ],
            "image/png": "[encoded data removed]"
          },
          "metadata": {}
        }
      ]
    },
    {
      "cell_type": "markdown",
      "metadata": {
        "pycharm": {
          "name": "#%% md\n"
        },
        "id": "FocmsJexRDSB"
      },
      "source": [
        "Plotting the probabilities as a function of the two variables is very useful for analysis. The plot below illustrates data samples, representing the probabilities assigned by the logistic model with a blue colour. This colour coding represents the likelihood of each data sample being malignant. Samples in the lower left quadrant demonstrate lower probabilities, while those in the upper right quadrant exhibit higher probabilities."
      ]
    },
    {
      "cell_type": "code",
      "execution_count": null,
      "metadata": {
        "pycharm": {
          "name": "#%%\n"
        },
        "colab": {
          "base_uri": "https://localhost:8080/",
          "height": 499
        },
        "id": "nz-qTwsNRDSC",
        "outputId": "52b45818-92ee-4117-8829-208ee6f8a3da"
      },
      "outputs": [
        {
          "output_type": "stream",
          "name": "stderr",
          "text": [
            "<ipython-input-44-139c284d3202>:4: MatplotlibDeprecationWarning: The get_cmap function was deprecated in Matplotlib 3.7 and will be removed two minor releases later. Use ``matplotlib.colormaps[name]`` or ``matplotlib.colormaps.get_cmap(obj)`` instead.\n",
            "  blue_map = cm.get_cmap('Blues')\n"
          ]
        },
        {
          "output_type": "execute_result",
          "data": {
            "text/plain": [
              "<matplotlib.colorbar.Colorbar at 0x7fb00c628520>"
            ]
          },
          "metadata": {},
          "execution_count": 44
        },
        {
          "output_type": "display_data",
          "data": {
            "text/plain": [
              "<Figure size 1000x500 with 3 Axes>"
            ],
            "image/png": "[encoded data removed]"
          },
          "metadata": {}
        }
      ],
      "source": [
        "from matplotlib import cm\n",
        "from matplotlib.colors import ListedColormap, LinearSegmentedColormap\n",
        "\n",
        "blue_map = cm.get_cmap('Blues')\n",
        "light_map = ListedColormap(blue_map(np.linspace(0,0.5,100)))\n",
        "\n",
        "# Create grid of points to plot the data\n",
        "xmin = np.array([0,0])\n",
        "xmax = np.array([12,12])\n",
        "nplot = 100\n",
        "xp0 = np.linspace(xmin[0], xmax[0], nplot)\n",
        "xp1 = np.linspace(xmin[1], xmax[1], nplot)\n",
        "Xp0, Xp1 = np.meshgrid(xp0,xp1)\n",
        "Xplot = np.column_stack((Xp0.ravel(), Xp1.ravel()))\n",
        "Zplot = scaler.transform(Xplot)\n",
        "\n",
        "\n",
        "prob = logreg.predict_proba(Zplot)[:,1] # Get class probabilities based on trained logistic regressor\n",
        "prob_mat = np.fliplr(prob.reshape((nplot, nplot))).T\n",
        "\n",
        "plt.figure(figsize=(10,5))\n",
        "plt.subplot(1,2,1)\n",
        "im = plt.imshow(prob_mat, extent=[xmin[0],xmax[0],xmin[1],xmax[1]], cmap=light_map)\n",
        "plot_cnt(X,y, legend=False)\n",
        "plt.xlabel(xnames[0], fontsize=16)\n",
        "plt.ylabel(xnames[1], fontsize=16)\n",
        "plt.title('Probability')\n",
        "\n",
        "plt.subplot(1,2,2)\n",
        "yhat = (prob_mat > 0.5).astype(float)\n",
        "plt.imshow(yhat, extent=[xmin[0],xmax[0],xmin[1],xmax[1]], cmap=light_map)\n",
        "plot_cnt(X,y, legend=False)\n",
        "plt.xlabel(xnames[0], fontsize=16)\n",
        "plt.title('Class decision')\n",
        "\n",
        "\n",
        "plt.subplots_adjust(bottom=0.1, top=0.9, left=0.1, right=0.8)\n",
        "cb_ax = plt.gcf().add_axes([0.83, 0.15, 0.02, 0.7])\n",
        "plt.colorbar(im, cax=cb_ax)"
      ]
    },
    {
      "cell_type": "markdown",
      "metadata": {
        "pycharm": {
          "name": "#%% md\n"
        },
        "id": "7c5ZAqFDRDSC"
      },
      "source": [
        "## Multivariable Logistic Regression\n",
        "\n",
        "Now, we fit the logistic regression model on the full dataset."
      ]
    },
    {
      "cell_type": "code",
      "execution_count": null,
      "metadata": {
        "pycharm": {
          "name": "#%%\n"
        },
        "colab": {
          "base_uri": "https://localhost:8080/"
        },
        "id": "J-H33oBNRDSC",
        "outputId": "20cf66ce-2577-4307-91c4-9a2257101050"
      },
      "outputs": [
        {
          "output_type": "stream",
          "name": "stdout",
          "text": [
            "(683, 9)\n"
          ]
        }
      ],
      "source": [
        "# Get array of all the features, except the ID (in the first column)\n",
        "# and target variable (in the last column)\n",
        "xnames = names[1:-1]\n",
        "X = np.array(df[xnames])\n",
        "print(X.shape)"
      ]
    },
    {
      "cell_type": "code",
      "source": [
        "# Split the data onto training and test samples (70% of the samples for training and the rest for testing)\n",
        "xTrain, xTest, yTrain, yTest = train_test_split(X, y, test_size=0.30)"
      ],
      "metadata": {
        "id": "WRzgth9mTDPh",
        "pycharm": {
          "name": "#%%\n"
        }
      },
      "execution_count": null,
      "outputs": []
    },
    {
      "cell_type": "markdown",
      "metadata": {
        "pycharm": {
          "name": "#%% md\n"
        },
        "id": "9IFsrueDRDSC"
      },
      "source": [
        "Next, we scale the training and test by using the `StandardScaler()`. After that, we fit the model on the training data and score on the test data.  We see we get a little better accuracy.  The result will be around 97% accuracy depending on the train-test split."
      ]
    },
    {
      "cell_type": "code",
      "execution_count": null,
      "metadata": {
        "pycharm": {
          "name": "#%%\n"
        },
        "id": "lPlCFA1iRDSD"
      },
      "outputs": [],
      "source": [
        "# Scale the data\n",
        "scal = StandardScaler()\n",
        "xTrain = scal.fit_transform(xTrain)\n",
        "xTest = scal.transform(xTest)"
      ]
    },
    {
      "cell_type": "code",
      "source": [
        "# Fit on the scaled trained data\n",
        "reg = linear_model.LogisticRegression(C=1e5)\n",
        "reg.fit(xTrain, yTrain)"
      ],
      "metadata": {
        "id": "iGed5BfYTLj2",
        "pycharm": {
          "name": "#%%\n"
        }
      },
      "execution_count": null,
      "outputs": []
    },
    {
      "cell_type": "code",
      "source": [
        "# Measure accuracy\n",
        "yHat = reg.predict(xTest)\n",
        "acc = np.mean(yHat == yTest)\n",
        "print(\"Accuracy on test data = %f\" % acc)"
      ],
      "metadata": {
        "id": "dYUQtGPFTMrb",
        "pycharm": {
          "name": "#%%\n"
        }
      },
      "execution_count": null,
      "outputs": []
    },
    {
      "cell_type": "markdown",
      "metadata": {
        "pycharm": {
          "name": "#%% md\n"
        },
        "id": "Nc1Sfal9RDSD"
      },
      "source": [
        "We can also evaluate the weights for each feature after fitting the Logistic Regression model."
      ]
    },
    {
      "cell_type": "code",
      "execution_count": null,
      "metadata": {
        "pycharm": {
          "name": "#%%\n"
        },
        "id": "LjgpmgZHRDSD"
      },
      "outputs": [],
      "source": [
        "W = reg.coef_\n",
        "data = {'feature': xnames, 'slope': np.squeeze(W)}\n",
        "dfslope = pd.DataFrame(data=data)\n",
        "dfslope"
      ]
    },
    {
      "cell_type": "markdown",
      "metadata": {
        "pycharm": {
          "name": "#%% md\n"
        },
        "id": "hsdDofPTRDSD"
      },
      "source": [
        "## Cross-fold Validation\n",
        "\n",
        "Here we use cross fold validation to evaluate the average prediction of Logistic Regression. We report the mean and standard deviation of the accuracy over the different folds.\n"
      ]
    },
    {
      "cell_type": "code",
      "execution_count": null,
      "metadata": {
        "pycharm": {
          "name": "#%%\n"
        },
        "id": "rtIVoMs_RDSE"
      },
      "outputs": [],
      "source": [
        "from sklearn.model_selection import KFold\n",
        "from sklearn.metrics import precision_recall_fscore_support"
      ]
    },
    {
      "cell_type": "code",
      "source": [
        "nFolds = 5\n",
        "kf = KFold(n_splits=nFolds)\n",
        "accFold = np.zeros(nFolds)"
      ],
      "metadata": {
        "id": "jRjtcncDkLkO"
      },
      "execution_count": null,
      "outputs": []
    },
    {
      "cell_type": "code",
      "source": [
        "for idx, folds in enumerate(kf.split(X)):\n",
        "\n",
        "    # Get the folds\n",
        "    train, test = folds\n",
        "    xTrainFold = X[train,:]\n",
        "    yTrainFold = y[train]\n",
        "    xTestFold = X[test,:]\n",
        "    yTestFold = y[test]\n",
        "\n",
        "    # Scale the data\n",
        "    scal = StandardScaler()\n",
        "    xTrainFold = scal.fit_transform(xTrainFold)\n",
        "    xTestFold = scal.transform(xTestFold)\n",
        "\n",
        "    # Fit a model\n",
        "    reg.fit(xTrainFold, yTrainFold)\n",
        "\n",
        "    # Obtain prediction on leave-one-out fold\n",
        "    yHatFold = reg.predict(xTestFold)\n",
        "    accFold[idx] = np.mean(yHatFold == yTestFold)"
      ],
      "metadata": {
        "id": "760QyGR8kNTe"
      },
      "execution_count": null,
      "outputs": []
    },
    {
      "cell_type": "code",
      "source": [
        "# Take average values of the metrics\n",
        "accMean = np.mean(acc)\n",
        "\n",
        "# Compute the standard errors\n",
        "accStd = np.std(acc)/np.sqrt(nFolds-1)\n",
        "\n",
        "print('Accuracy =  {0:.4f}, SE={1:.4f}'.format(accMean, accStd))"
      ],
      "metadata": {
        "id": "QoQKjAoSCjfN"
      },
      "execution_count": null,
      "outputs": []
    }
  ],
  "metadata": {
    "anaconda-cloud": {},
    "kernelspec": {
      "display_name": "Python 3",
      "language": "python",
      "name": "python3"
    },
    "language_info": {
      "codemirror_mode": {
        "name": "ipython",
        "version": 3
      },
      "file_extension": ".py",
      "mimetype": "text/x-python",
      "name": "python",
      "nbconvert_exporter": "python",
      "pygments_lexer": "ipython3",
      "version": "3.8.3"
    },
    "colab": {
      "provenance": [],
      "toc_visible": true
    }
  },
  "nbformat": 4,
  "nbformat_minor": 0
}